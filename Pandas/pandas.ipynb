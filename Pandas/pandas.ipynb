{
 "cells": [
  {
   "cell_type": "code",
   "execution_count": 1,
   "metadata": {},
   "outputs": [
    {
     "name": "stdout",
     "output_type": "stream",
     "text": [
      "      Name  Age     City\n",
      "0    Alice   25  Newyork\n",
      "1      Bob   30  Chicago\n",
      "2  Charlie   35    Paris\n"
     ]
    }
   ],
   "source": [
    "import pandas as pd\n",
    "\n",
    "data = {\n",
    "    \"Name\":[\"Alice\",\"Bob\",\"Charlie\"],\n",
    "    \"Age\":[25,30,35],\n",
    "    \"City\":[\"Newyork\",\"Chicago\",\"Paris\"]\n",
    "}\n",
    "df = pd.DataFrame(data)\n",
    "print(df)\n"
   ]
  },
  {
   "cell_type": "code",
   "execution_count": 6,
   "metadata": {},
   "outputs": [
    {
     "name": "stdout",
     "output_type": "stream",
     "text": [
      "      Name  Age     City\n",
      "0    Alice   25  Newyork\n",
      "1      Bob   30  Chicago\n",
      "2  Charlie   35    Paris\n"
     ]
    }
   ],
   "source": [
    "data = [\n",
    "    [\"Alice\",25,\"Newyork\"],\n",
    "    [\"Bob\",30,\"Chicago\"],\n",
    "    [\"Charlie\",35,\"Paris\"]\n",
    "]\n",
    "columns = [\"Name\",\"Age\",\"City\"]\n",
    "df = pd.DataFrame(data, columns=columns)\n",
    "print(df)"
   ]
  },
  {
   "cell_type": "code",
   "execution_count": 7,
   "metadata": {},
   "outputs": [
    {
     "name": "stdout",
     "output_type": "stream",
     "text": [
      "      Name  Age     City\n",
      "a    Alice   25  Newyork\n",
      "b      Bob   30  Chicago\n",
      "c  Charlie   35    Paris\n"
     ]
    }
   ],
   "source": [
    "data = {\n",
    "    \"Name\":[\"Alice\",\"Bob\",\"Charlie\"],\n",
    "    \"Age\":[25,30,35],\n",
    "    \"City\":[\"Newyork\",\"Chicago\",\"Paris\"]\n",
    "}\n",
    "df= pd.DataFrame(data,index=[\"a\",\"b\",\"c\"])\n",
    "print(df)"
   ]
  },
  {
   "cell_type": "code",
   "execution_count": 8,
   "metadata": {},
   "outputs": [
    {
     "name": "stdout",
     "output_type": "stream",
     "text": [
      "   ID     Name  Score\n",
      "0   1    Alice     85\n",
      "1   2      Bob     90\n",
      "2   3  Charlie     95\n"
     ]
    }
   ],
   "source": [
    "data =[\n",
    "    (1,\"Alice\",85),\n",
    "    (2,\"Bob\",90),\n",
    "    (3,\"Charlie\",95)\n",
    "]\n",
    "df = pd.DataFrame(data, columns=['ID','Name','Score'])\n",
    "print(df)"
   ]
  },
  {
   "cell_type": "code",
   "execution_count": 9,
   "metadata": {},
   "outputs": [
    {
     "name": "stdout",
     "output_type": "stream",
     "text": [
      "0    10\n",
      "1    20\n",
      "2    30\n",
      "3    40\n",
      "dtype: int64\n"
     ]
    }
   ],
   "source": [
    "# Series:one-dimensional array-like object that can hold any data type\n",
    "# (integer,float,strings,objects).It is similar to a column in dataframe or\n",
    "# dictionary where keys are labels.\n",
    "\n",
    "import pandas as pd\n",
    "\n",
    "data = [10,20,30,40]\n",
    "s = pd.Series(data)\n",
    "print(s)\n",
    "\n"
   ]
  },
  {
   "cell_type": "code",
   "execution_count": 11,
   "metadata": {},
   "outputs": [
    {
     "name": "stdout",
     "output_type": "stream",
     "text": [
      "a    20\n",
      "b    30\n",
      "c    40\n",
      "d    50\n",
      "dtype: int64\n"
     ]
    }
   ],
   "source": [
    "data = [20,30,40,50]\n",
    "index = ['a','b','c','d']\n",
    "s = pd.Series(data,index= index)\n",
    "print(s)"
   ]
  },
  {
   "cell_type": "code",
   "execution_count": 13,
   "metadata": {},
   "outputs": [
    {
     "name": "stdout",
     "output_type": "stream",
     "text": [
      "a    10\n",
      "b    20\n",
      "c    30\n",
      "d    40\n",
      "dtype: int64\n"
     ]
    }
   ],
   "source": [
    "data = {'a':10,'b':20,'c':30,'d':40}\n",
    "s = pd.Series(data)\n",
    "print(s)"
   ]
  },
  {
   "cell_type": "code",
   "execution_count": 15,
   "metadata": {},
   "outputs": [
    {
     "name": "stdout",
     "output_type": "stream",
     "text": [
      "a    5\n",
      "b    5\n",
      "c    5\n",
      "d    5\n",
      "dtype: int64\n"
     ]
    }
   ],
   "source": [
    "s = pd.Series(5,index=['a','b','c','d'])\n",
    "print(s)"
   ]
  },
  {
   "cell_type": "code",
   "execution_count": 16,
   "metadata": {},
   "outputs": [
    {
     "name": "stdout",
     "output_type": "stream",
     "text": [
      "0    78\n",
      "1    89\n",
      "2    98\n",
      "Name: score, dtype: int64\n"
     ]
    }
   ],
   "source": [
    "data = {\"Name\":[\"Alice\",\"Bob\",\"Charlie\"],'score':[78,89,98]}\n",
    "df = pd.DataFrame(data)\n",
    "\n",
    "s = df['score']\n",
    "print(s)"
   ]
  },
  {
   "cell_type": "code",
   "execution_count": 20,
   "metadata": {},
   "outputs": [
    {
     "name": "stdout",
     "output_type": "stream",
     "text": [
      "20\n",
      "40\n"
     ]
    },
    {
     "name": "stderr",
     "output_type": "stream",
     "text": [
      "C:\\Users\\DELL\\AppData\\Local\\Temp\\ipykernel_25404\\1867940410.py:3: FutureWarning: Series.__getitem__ treating keys as positions is deprecated. In a future version, integer keys will always be treated as labels (consistent with DataFrame behavior). To access a value by position, use `ser.iloc[pos]`\n",
      "  print(s[3])\n"
     ]
    }
   ],
   "source": [
    "s = pd.Series([10,20,30,40],index =['a','b','c','d'])\n",
    "print(s['b'])\n",
    "print(s[3])\n"
   ]
  },
  {
   "cell_type": "code",
   "execution_count": 22,
   "metadata": {},
   "outputs": [
    {
     "name": "stdout",
     "output_type": "stream",
     "text": [
      "0    15\n",
      "1    25\n",
      "2    35\n",
      "3    45\n",
      "dtype: int64\n",
      "0    20\n",
      "1    40\n",
      "2    60\n",
      "3    80\n",
      "dtype: int64\n",
      "0    False\n",
      "1    False\n",
      "2     True\n",
      "3     True\n",
      "dtype: bool\n"
     ]
    }
   ],
   "source": [
    "s = pd.Series([10,20,30,40])\n",
    "print(s+5)\n",
    "print(s*2)\n",
    "print(s>20)"
   ]
  },
  {
   "cell_type": "code",
   "execution_count": 23,
   "metadata": {},
   "outputs": [
    {
     "name": "stdout",
     "output_type": "stream",
     "text": [
      "0    False\n",
      "1     True\n",
      "2    False\n",
      "3    False\n",
      "dtype: bool\n",
      "0    10.0\n",
      "1     0.0\n",
      "2    30.0\n",
      "3    40.0\n",
      "dtype: float64\n"
     ]
    }
   ],
   "source": [
    "data  =  [10,None,30,40]\n",
    "s = pd.Series(data)\n",
    "print(s.isnull())\n",
    "print(s.fillna(0))"
   ]
  },
  {
   "cell_type": "code",
   "execution_count": 27,
   "metadata": {},
   "outputs": [
    {
     "name": "stdout",
     "output_type": "stream",
     "text": [
      "a   NaN\n",
      "b   NaN\n",
      "c   NaN\n",
      "d   NaN\n",
      "e   NaN\n",
      "f   NaN\n",
      "g   NaN\n",
      "h   NaN\n",
      "dtype: float64\n",
      "a    10.0\n",
      "b    20.0\n",
      "c    30.0\n",
      "d    40.0\n",
      "e    40.0\n",
      "f    80.0\n",
      "g    70.0\n",
      "h    90.0\n",
      "dtype: float64\n"
     ]
    }
   ],
   "source": [
    "s1 = pd.Series([10,20,30,40],index =['a','b','c','d'])\n",
    "s2 = pd.Series([40,80,70,90],index =['e','f','g','h'])\n",
    "\n",
    "print(s1+s2)\n",
    "combine = s1.add(s2,fill_value = 0)\n",
    "print(combine)\n"
   ]
  }
 ],
 "metadata": {
  "kernelspec": {
   "display_name": "Python 3",
   "language": "python",
   "name": "python3"
  },
  "language_info": {
   "codemirror_mode": {
    "name": "ipython",
    "version": 3
   },
   "file_extension": ".py",
   "mimetype": "text/x-python",
   "name": "python",
   "nbconvert_exporter": "python",
   "pygments_lexer": "ipython3",
   "version": "3.12.1"
  }
 },
 "nbformat": 4,
 "nbformat_minor": 2
}
