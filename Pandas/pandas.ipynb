{
 "cells": [
  {
   "cell_type": "code",
   "execution_count": 1,
   "metadata": {},
   "outputs": [
    {
     "name": "stdout",
     "output_type": "stream",
     "text": [
      "      Name  Age     City\n",
      "0    Alice   25  Newyork\n",
      "1      Bob   30  Chicago\n",
      "2  Charlie   35    Paris\n"
     ]
    }
   ],
   "source": [
    "import pandas as pd\n",
    "\n",
    "data = {\n",
    "    \"Name\":[\"Alice\",\"Bob\",\"Charlie\"],\n",
    "    \"Age\":[25,30,35],\n",
    "    \"City\":[\"Newyork\",\"Chicago\",\"Paris\"]\n",
    "}\n",
    "df = pd.DataFrame(data)\n",
    "print(df)\n"
   ]
  },
  {
   "cell_type": "code",
   "execution_count": 6,
   "metadata": {},
   "outputs": [
    {
     "name": "stdout",
     "output_type": "stream",
     "text": [
      "      Name  Age     City\n",
      "0    Alice   25  Newyork\n",
      "1      Bob   30  Chicago\n",
      "2  Charlie   35    Paris\n"
     ]
    }
   ],
   "source": [
    "data = [\n",
    "    [\"Alice\",25,\"Newyork\"],\n",
    "    [\"Bob\",30,\"Chicago\"],\n",
    "    [\"Charlie\",35,\"Paris\"]\n",
    "]\n",
    "columns = [\"Name\",\"Age\",\"City\"]\n",
    "df = pd.DataFrame(data, columns=columns)\n",
    "print(df)"
   ]
  },
  {
   "cell_type": "code",
   "execution_count": 7,
   "metadata": {},
   "outputs": [
    {
     "name": "stdout",
     "output_type": "stream",
     "text": [
      "      Name  Age     City\n",
      "a    Alice   25  Newyork\n",
      "b      Bob   30  Chicago\n",
      "c  Charlie   35    Paris\n"
     ]
    }
   ],
   "source": [
    "data = {\n",
    "    \"Name\":[\"Alice\",\"Bob\",\"Charlie\"],\n",
    "    \"Age\":[25,30,35],\n",
    "    \"City\":[\"Newyork\",\"Chicago\",\"Paris\"]\n",
    "}\n",
    "df= pd.DataFrame(data,index=[\"a\",\"b\",\"c\"])\n",
    "print(df)"
   ]
  },
  {
   "cell_type": "code",
   "execution_count": 8,
   "metadata": {},
   "outputs": [
    {
     "name": "stdout",
     "output_type": "stream",
     "text": [
      "   ID     Name  Score\n",
      "0   1    Alice     85\n",
      "1   2      Bob     90\n",
      "2   3  Charlie     95\n"
     ]
    }
   ],
   "source": [
    "data =[\n",
    "    (1,\"Alice\",85),\n",
    "    (2,\"Bob\",90),\n",
    "    (3,\"Charlie\",95)\n",
    "]\n",
    "df = pd.DataFrame(data, columns=['ID','Name','Score'])\n",
    "print(df)"
   ]
  },
  {
   "cell_type": "code",
   "execution_count": null,
   "metadata": {},
   "outputs": [
    {
     "name": "stdout",
     "output_type": "stream",
     "text": [
      "0    10\n",
      "1    20\n",
      "2    30\n",
      "3    40\n",
      "dtype: int64\n"
     ]
    }
   ],
   "source": [
    "# Series:one-dimensional array-like object that can hold any data type\n",
    "# (integer,float,strings,objects).It is similar to a column in dataframe or\n",
    "# dictionary where keys are labels.\n",
    "\n",
    "import pandas as pd\n",
    "\n",
    "data = [10,20,30,40]\n",
    "s = pd.Series(data)\n",
    "print(s)\n",
    "\n"
   ]
  },
  {
   "cell_type": "code",
   "execution_count": 11,
   "metadata": {},
   "outputs": [
    {
     "name": "stdout",
     "output_type": "stream",
     "text": [
      "a    20\n",
      "b    30\n",
      "c    40\n",
      "d    50\n",
      "dtype: int64\n"
     ]
    }
   ],
   "source": [
    "data = [20,30,40,50]\n",
    "index = ['a','b','c','d']\n",
    "s = pd.Series(data,index= index)\n",
    "print(s)"
   ]
  },
  {
   "cell_type": "code",
   "execution_count": 13,
   "metadata": {},
   "outputs": [
    {
     "name": "stdout",
     "output_type": "stream",
     "text": [
      "a    10\n",
      "b    20\n",
      "c    30\n",
      "d    40\n",
      "dtype: int64\n"
     ]
    }
   ],
   "source": [
    "data = {'a':10,'b':20,'c':30,'d':40}\n",
    "s = pd.Series(data)\n",
    "print(s)"
   ]
  },
  {
   "cell_type": "code",
   "execution_count": 15,
   "metadata": {},
   "outputs": [
    {
     "name": "stdout",
     "output_type": "stream",
     "text": [
      "a    5\n",
      "b    5\n",
      "c    5\n",
      "d    5\n",
      "dtype: int64\n"
     ]
    }
   ],
   "source": [
    "s = pd.Series(5,index=['a','b','c','d'])\n",
    "print(s)"
   ]
  },
  {
   "cell_type": "code",
   "execution_count": 16,
   "metadata": {},
   "outputs": [
    {
     "name": "stdout",
     "output_type": "stream",
     "text": [
      "0    78\n",
      "1    89\n",
      "2    98\n",
      "Name: score, dtype: int64\n"
     ]
    }
   ],
   "source": [
    "data = {\"Name\":[\"Alice\",\"Bob\",\"Charlie\"],'score':[78,89,98]}\n",
    "df = pd.DataFrame(data)\n",
    "\n",
    "s = df['score']\n",
    "print(s)"
   ]
  },
  {
   "cell_type": "code",
   "execution_count": 20,
   "metadata": {},
   "outputs": [
    {
     "name": "stdout",
     "output_type": "stream",
     "text": [
      "20\n",
      "40\n"
     ]
    },
    {
     "name": "stderr",
     "output_type": "stream",
     "text": [
      "C:\\Users\\DELL\\AppData\\Local\\Temp\\ipykernel_25404\\1867940410.py:3: FutureWarning: Series.__getitem__ treating keys as positions is deprecated. In a future version, integer keys will always be treated as labels (consistent with DataFrame behavior). To access a value by position, use `ser.iloc[pos]`\n",
      "  print(s[3])\n"
     ]
    }
   ],
   "source": [
    "s = pd.Series([10,20,30,40],index =['a','b','c','d'])\n",
    "print(s['b'])\n",
    "print(s[3])\n"
   ]
  },
  {
   "cell_type": "code",
   "execution_count": 22,
   "metadata": {},
   "outputs": [
    {
     "name": "stdout",
     "output_type": "stream",
     "text": [
      "0    15\n",
      "1    25\n",
      "2    35\n",
      "3    45\n",
      "dtype: int64\n",
      "0    20\n",
      "1    40\n",
      "2    60\n",
      "3    80\n",
      "dtype: int64\n",
      "0    False\n",
      "1    False\n",
      "2     True\n",
      "3     True\n",
      "dtype: bool\n"
     ]
    }
   ],
   "source": [
    "s = pd.Series([10,20,30,40])\n",
    "print(s+5)\n",
    "print(s*2)\n",
    "print(s>20)"
   ]
  },
  {
   "cell_type": "code",
   "execution_count": 23,
   "metadata": {},
   "outputs": [
    {
     "name": "stdout",
     "output_type": "stream",
     "text": [
      "0    False\n",
      "1     True\n",
      "2    False\n",
      "3    False\n",
      "dtype: bool\n",
      "0    10.0\n",
      "1     0.0\n",
      "2    30.0\n",
      "3    40.0\n",
      "dtype: float64\n"
     ]
    }
   ],
   "source": [
    "data  =  [10,None,30,40]\n",
    "s = pd.Series(data)\n",
    "print(s.isnull())\n",
    "print(s.fillna(0))"
   ]
  },
  {
   "cell_type": "code",
   "execution_count": 27,
   "metadata": {},
   "outputs": [
    {
     "name": "stdout",
     "output_type": "stream",
     "text": [
      "a   NaN\n",
      "b   NaN\n",
      "c   NaN\n",
      "d   NaN\n",
      "e   NaN\n",
      "f   NaN\n",
      "g   NaN\n",
      "h   NaN\n",
      "dtype: float64\n",
      "a    10.0\n",
      "b    20.0\n",
      "c    30.0\n",
      "d    40.0\n",
      "e    40.0\n",
      "f    80.0\n",
      "g    70.0\n",
      "h    90.0\n",
      "dtype: float64\n"
     ]
    }
   ],
   "source": [
    "s1 = pd.Series([10,20,30,40],index =['a','b','c','d'])\n",
    "s2 = pd.Series([40,80,70,90],index =['e','f','g','h'])\n",
    "\n",
    "print(s1+s2)\n",
    "combine = s1.add(s2,fill_value = 0)\n",
    "print(combine)\n"
   ]
  },
  {
   "cell_type": "code",
   "execution_count": 29,
   "metadata": {},
   "outputs": [
    {
     "name": "stdout",
     "output_type": "stream",
     "text": [
      "      Student_ID  Study_Hours_Per_Day  Extracurricular_Hours_Per_Day  \\\n",
      "0              1                  6.9                            3.8   \n",
      "1              2                  5.3                            3.5   \n",
      "2              3                  5.1                            3.9   \n",
      "3              4                  6.5                            2.1   \n",
      "4              5                  8.1                            0.6   \n",
      "...          ...                  ...                            ...   \n",
      "1995        1996                  6.5                            0.2   \n",
      "1996        1997                  6.3                            2.8   \n",
      "1997        1998                  6.2                            0.0   \n",
      "1998        1999                  8.1                            0.7   \n",
      "1999        2000                  9.0                            1.7   \n",
      "\n",
      "      Sleep_Hours_Per_Day  Social_Hours_Per_Day  \\\n",
      "0                     8.7                   2.8   \n",
      "1                     8.0                   4.2   \n",
      "2                     9.2                   1.2   \n",
      "3                     7.2                   1.7   \n",
      "4                     6.5                   2.2   \n",
      "...                   ...                   ...   \n",
      "1995                  7.4                   2.1   \n",
      "1996                  8.8                   1.5   \n",
      "1997                  6.2                   0.8   \n",
      "1998                  7.6                   3.5   \n",
      "1999                  7.3                   3.1   \n",
      "\n",
      "      Physical_Activity_Hours_Per_Day   GPA Stress_Level  \n",
      "0                                 1.8  2.99     Moderate  \n",
      "1                                 3.0  2.75          Low  \n",
      "2                                 4.6  2.67          Low  \n",
      "3                                 6.5  2.88     Moderate  \n",
      "4                                 6.6  3.51         High  \n",
      "...                               ...   ...          ...  \n",
      "1995                              7.8  3.32     Moderate  \n",
      "1996                              4.6  2.65     Moderate  \n",
      "1997                             10.8  3.14     Moderate  \n",
      "1998                              4.1  3.04         High  \n",
      "1999                              2.9  3.58         High  \n",
      "\n",
      "[2000 rows x 8 columns]\n"
     ]
    }
   ],
   "source": [
    "data = pd.read_csv('student_lifestyle_dataset.csv')\n",
    "print(data)"
   ]
  },
  {
   "cell_type": "code",
   "execution_count": null,
   "metadata": {},
   "outputs": [
    {
     "name": "stdout",
     "output_type": "stream",
     "text": [
      "<class 'pandas.core.frame.DataFrame'>\n",
      "RangeIndex: 2000 entries, 0 to 1999\n",
      "Data columns (total 8 columns):\n",
      " #   Column                           Non-Null Count  Dtype  \n",
      "---  ------                           --------------  -----  \n",
      " 0   Student_ID                       2000 non-null   int64  \n",
      " 1   Study_Hours_Per_Day              2000 non-null   float64\n",
      " 2   Extracurricular_Hours_Per_Day    2000 non-null   float64\n",
      " 3   Sleep_Hours_Per_Day              2000 non-null   float64\n",
      " 4   Social_Hours_Per_Day             2000 non-null   float64\n",
      " 5   Physical_Activity_Hours_Per_Day  2000 non-null   float64\n",
      " 6   GPA                              2000 non-null   float64\n",
      " 7   Stress_Level                     2000 non-null   object \n",
      "dtypes: float64(6), int64(1), object(1)\n",
      "memory usage: 125.1+ KB\n",
      "None\n"
     ]
    }
   ],
   "source": [
    "#summary of the dataframe\n",
    "print(data.info())"
   ]
  },
  {
   "cell_type": "code",
   "execution_count": null,
   "metadata": {},
   "outputs": [
    {
     "name": "stdout",
     "output_type": "stream",
     "text": [
      "        Student_ID  Study_Hours_Per_Day  Extracurricular_Hours_Per_Day  \\\n",
      "count  2000.000000          2000.000000                    2000.000000   \n",
      "mean   1000.500000             7.475800                       1.990100   \n",
      "std     577.494589             1.423888                       1.155855   \n",
      "min       1.000000             5.000000                       0.000000   \n",
      "25%     500.750000             6.300000                       1.000000   \n",
      "50%    1000.500000             7.400000                       2.000000   \n",
      "75%    1500.250000             8.700000                       3.000000   \n",
      "max    2000.000000            10.000000                       4.000000   \n",
      "\n",
      "       Sleep_Hours_Per_Day  Social_Hours_Per_Day  \\\n",
      "count          2000.000000           2000.000000   \n",
      "mean              7.501250              2.704550   \n",
      "std               1.460949              1.688514   \n",
      "min               5.000000              0.000000   \n",
      "25%               6.200000              1.200000   \n",
      "50%               7.500000              2.600000   \n",
      "75%               8.800000              4.100000   \n",
      "max              10.000000              6.000000   \n",
      "\n",
      "       Physical_Activity_Hours_Per_Day          GPA  \n",
      "count                       2000.00000  2000.000000  \n",
      "mean                           4.32830     3.115960  \n",
      "std                            2.51411     0.298674  \n",
      "min                            0.00000     2.240000  \n",
      "25%                            2.40000     2.900000  \n",
      "50%                            4.10000     3.110000  \n",
      "75%                            6.10000     3.330000  \n",
      "max                           13.00000     4.000000  \n"
     ]
    }
   ],
   "source": [
    "#summary of numerical columns\n",
    "print(data.describe())"
   ]
  },
  {
   "cell_type": "code",
   "execution_count": null,
   "metadata": {},
   "outputs": [
    {
     "name": "stdout",
     "output_type": "stream",
     "text": [
      "Student_ID                         0\n",
      "Study_Hours_Per_Day                0\n",
      "Extracurricular_Hours_Per_Day      0\n",
      "Sleep_Hours_Per_Day                0\n",
      "Social_Hours_Per_Day               0\n",
      "Physical_Activity_Hours_Per_Day    0\n",
      "GPA                                0\n",
      "Stress_Level                       0\n",
      "dtype: int64\n"
     ]
    }
   ],
   "source": [
    "# all null values\n",
    "print(data.isnull().sum())"
   ]
  },
  {
   "cell_type": "code",
   "execution_count": null,
   "metadata": {},
   "outputs": [
    {
     "name": "stdout",
     "output_type": "stream",
     "text": [
      "   Student_ID  Study_Hours_Per_Day  Extracurricular_Hours_Per_Day  \\\n",
      "0           1                  6.9                            3.8   \n",
      "1           2                  5.3                            3.5   \n",
      "2           3                  5.1                            3.9   \n",
      "3           4                  6.5                            2.1   \n",
      "4           5                  8.1                            0.6   \n",
      "\n",
      "   Sleep_Hours_Per_Day  Social_Hours_Per_Day  Physical_Activity_Hours_Per_Day  \\\n",
      "0                  8.7                   2.8                              1.8   \n",
      "1                  8.0                   4.2                              3.0   \n",
      "2                  9.2                   1.2                              4.6   \n",
      "3                  7.2                   1.7                              6.5   \n",
      "4                  6.5                   2.2                              6.6   \n",
      "\n",
      "    GPA Stress_Level  \n",
      "0  2.99     Moderate  \n",
      "1  2.75          Low  \n",
      "2  2.67          Low  \n",
      "3  2.88     Moderate  \n",
      "4  3.51         High  \n"
     ]
    }
   ],
   "source": [
    "#view first\n",
    "# 5 rows\n",
    "print(df.head())"
   ]
  },
  {
   "cell_type": "code",
   "execution_count": null,
   "metadata": {},
   "outputs": [
    {
     "name": "stdout",
     "output_type": "stream",
     "text": [
      "      Student_ID  Study_Hours_Per_Day  Extracurricular_Hours_Per_Day  \\\n",
      "1995        1996                  6.5                            0.2   \n",
      "1996        1997                  6.3                            2.8   \n",
      "1997        1998                  6.2                            0.0   \n",
      "1998        1999                  8.1                            0.7   \n",
      "1999        2000                  9.0                            1.7   \n",
      "\n",
      "      Sleep_Hours_Per_Day  Social_Hours_Per_Day  \\\n",
      "1995                  7.4                   2.1   \n",
      "1996                  8.8                   1.5   \n",
      "1997                  6.2                   0.8   \n",
      "1998                  7.6                   3.5   \n",
      "1999                  7.3                   3.1   \n",
      "\n",
      "      Physical_Activity_Hours_Per_Day   GPA Stress_Level  \n",
      "1995                              7.8  3.32     Moderate  \n",
      "1996                              4.6  2.65     Moderate  \n",
      "1997                             10.8  3.14     Moderate  \n",
      "1998                              4.1  3.04         High  \n",
      "1999                              2.9  3.58         High  \n"
     ]
    }
   ],
   "source": [
    "#view last 5 rows\n",
    "print(df.tail())"
   ]
  },
  {
   "cell_type": "code",
   "execution_count": null,
   "metadata": {},
   "outputs": [
    {
     "name": "stdout",
     "output_type": "stream",
     "text": [
      "Index(['Student_ID', 'Study_Hours_Per_Day', 'Extracurricular_Hours_Per_Day',\n",
      "       'Sleep_Hours_Per_Day', 'Social_Hours_Per_Day',\n",
      "       'Physical_Activity_Hours_Per_Day', 'GPA', 'Stress_Level'],\n",
      "      dtype='object')\n"
     ]
    }
   ],
   "source": [
    "#All columns names\n",
    "print(df.columns)"
   ]
  },
  {
   "cell_type": "code",
   "execution_count": null,
   "metadata": {},
   "outputs": [
    {
     "name": "stdout",
     "output_type": "stream",
     "text": [
      "(2000, 8)\n"
     ]
    }
   ],
   "source": [
    "#Rows and columns count\n",
    "print(df.shape) "
   ]
  },
  {
   "cell_type": "code",
   "execution_count": 38,
   "metadata": {},
   "outputs": [
    {
     "name": "stdout",
     "output_type": "stream",
     "text": [
      "Student_ID                           int64\n",
      "Study_Hours_Per_Day                float64\n",
      "Extracurricular_Hours_Per_Day      float64\n",
      "Sleep_Hours_Per_Day                float64\n",
      "Social_Hours_Per_Day               float64\n",
      "Physical_Activity_Hours_Per_Day    float64\n",
      "GPA                                float64\n",
      "Stress_Level                        object\n",
      "dtype: object\n"
     ]
    }
   ],
   "source": [
    "#data types of each column\n",
    "print(df.dtypes)"
   ]
  },
  {
   "cell_type": "code",
   "execution_count": 46,
   "metadata": {},
   "outputs": [
    {
     "name": "stdout",
     "output_type": "stream",
     "text": [
      "0          1\n",
      "1          2\n",
      "2          3\n",
      "3          4\n",
      "4          5\n",
      "        ... \n",
      "1995    1996\n",
      "1996    1997\n",
      "1997    1998\n",
      "1998    1999\n",
      "1999    2000\n",
      "Name: Student_ID, Length: 2000, dtype: int64\n"
     ]
    }
   ],
   "source": [
    "print(df['Student_ID'])\n"
   ]
  },
  {
   "cell_type": "code",
   "execution_count": null,
   "metadata": {},
   "outputs": [
    {
     "name": "stdout",
     "output_type": "stream",
     "text": [
      "0       6.9\n",
      "1       5.3\n",
      "2       5.1\n",
      "3       6.5\n",
      "4       8.1\n",
      "       ... \n",
      "1995    6.5\n",
      "1996    6.3\n",
      "1997    6.2\n",
      "1998    8.1\n",
      "1999    9.0\n",
      "Name: Study_Hours_Per_Day, Length: 2000, dtype: float64\n"
     ]
    }
   ],
   "source": [
    "#specify column access\n",
    "print(df['Study_Hours_Per_Day'])"
   ]
  },
  {
   "cell_type": "code",
   "execution_count": 47,
   "metadata": {},
   "outputs": [
    {
     "name": "stdout",
     "output_type": "stream",
     "text": [
      "Student_ID                                1\n",
      "Study_Hours_Per_Day                     6.9\n",
      "Extracurricular_Hours_Per_Day           3.8\n",
      "Sleep_Hours_Per_Day                     8.7\n",
      "Social_Hours_Per_Day                    2.8\n",
      "Physical_Activity_Hours_Per_Day         1.8\n",
      "GPA                                    2.99\n",
      "Stress_Level                       Moderate\n",
      "Name: 0, dtype: object\n"
     ]
    }
   ],
   "source": [
    "print(df.iloc[0])"
   ]
  },
  {
   "cell_type": "code",
   "execution_count": 48,
   "metadata": {},
   "outputs": [
    {
     "name": "stdout",
     "output_type": "stream",
     "text": [
      "2.99\n"
     ]
    }
   ],
   "source": [
    "print(df.loc[0,\"GPA\"])"
   ]
  },
  {
   "cell_type": "code",
   "execution_count": 50,
   "metadata": {},
   "outputs": [
    {
     "name": "stdout",
     "output_type": "stream",
     "text": [
      "Empty DataFrame\n",
      "Columns: [Student_ID, Study_Hours_Per_Day, Extracurricular_Hours_Per_Day, Sleep_Hours_Per_Day, Social_Hours_Per_Day, Physical_Activity_Hours_Per_Day, GPA, Stress_Level]\n",
      "Index: []\n"
     ]
    }
   ],
   "source": [
    "df_filter = df[df['GPA']>1000]\n",
    "print(df_filter)"
   ]
  },
  {
   "cell_type": "code",
   "execution_count": 52,
   "metadata": {},
   "outputs": [
    {
     "name": "stdout",
     "output_type": "stream",
     "text": [
      "0       5.98\n",
      "1       5.50\n",
      "2       5.34\n",
      "3       5.76\n",
      "4       7.02\n",
      "        ... \n",
      "1995    6.64\n",
      "1996    5.30\n",
      "1997    6.28\n",
      "1998    6.08\n",
      "1999    7.16\n",
      "Name: Student_info, Length: 2000, dtype: float64\n"
     ]
    }
   ],
   "source": [
    "df['Student_info'] = df['GPA']*2\n",
    "print(df['Student_info'])"
   ]
  },
  {
   "cell_type": "code",
   "execution_count": 54,
   "metadata": {},
   "outputs": [],
   "source": [
    "df.drop('Student_ID',axis=1,inplace= True)"
   ]
  },
  {
   "cell_type": "code",
   "execution_count": 55,
   "metadata": {},
   "outputs": [
    {
     "name": "stdout",
     "output_type": "stream",
     "text": [
      "<class 'pandas.core.frame.DataFrame'>\n",
      "RangeIndex: 2000 entries, 0 to 1999\n",
      "Data columns (total 8 columns):\n",
      " #   Column                           Non-Null Count  Dtype  \n",
      "---  ------                           --------------  -----  \n",
      " 0   Study_Hours_Per_Day              2000 non-null   float64\n",
      " 1   Extracurricular_Hours_Per_Day    2000 non-null   float64\n",
      " 2   Sleep_Hours_Per_Day              2000 non-null   float64\n",
      " 3   Social_Hours_Per_Day             2000 non-null   float64\n",
      " 4   Physical_Activity_Hours_Per_Day  2000 non-null   float64\n",
      " 5   GPA                              2000 non-null   float64\n",
      " 6   Stress_Level                     2000 non-null   object \n",
      " 7   Student_info                     2000 non-null   float64\n",
      "dtypes: float64(7), object(1)\n",
      "memory usage: 125.1+ KB\n"
     ]
    }
   ],
   "source": [
    "df.info()"
   ]
  },
  {
   "cell_type": "code",
   "execution_count": 59,
   "metadata": {},
   "outputs": [],
   "source": [
    "df.drop(1995,axis =0, inplace = True)"
   ]
  },
  {
   "cell_type": "code",
   "execution_count": 60,
   "metadata": {},
   "outputs": [
    {
     "name": "stdout",
     "output_type": "stream",
     "text": [
      "<class 'pandas.core.frame.DataFrame'>\n",
      "Index: 1999 entries, 0 to 1999\n",
      "Data columns (total 7 columns):\n",
      " #   Column                           Non-Null Count  Dtype  \n",
      "---  ------                           --------------  -----  \n",
      " 0   Study_Hours_Per_Day              1999 non-null   float64\n",
      " 1   Extracurricular_Hours_Per_Day    1999 non-null   float64\n",
      " 2   Sleep_Hours_Per_Day              1999 non-null   float64\n",
      " 3   Social_Hours_Per_Day             1999 non-null   float64\n",
      " 4   Physical_Activity_Hours_Per_Day  1999 non-null   float64\n",
      " 5   Stress_Level                     1999 non-null   object \n",
      " 6   Student_info                     1999 non-null   float64\n",
      "dtypes: float64(6), object(1)\n",
      "memory usage: 124.9+ KB\n"
     ]
    }
   ],
   "source": [
    "df.info()"
   ]
  },
  {
   "cell_type": "code",
   "execution_count": 61,
   "metadata": {},
   "outputs": [
    {
     "data": {
      "text/html": [
       "<div>\n",
       "<style scoped>\n",
       "    .dataframe tbody tr th:only-of-type {\n",
       "        vertical-align: middle;\n",
       "    }\n",
       "\n",
       "    .dataframe tbody tr th {\n",
       "        vertical-align: top;\n",
       "    }\n",
       "\n",
       "    .dataframe thead th {\n",
       "        text-align: right;\n",
       "    }\n",
       "</style>\n",
       "<table border=\"1\" class=\"dataframe\">\n",
       "  <thead>\n",
       "    <tr style=\"text-align: right;\">\n",
       "      <th></th>\n",
       "      <th>Study_Hours_Per_Day</th>\n",
       "      <th>Extracurricular_Hours_Per_Day</th>\n",
       "      <th>Sleep_Hours_Per_Day</th>\n",
       "      <th>Social_Hours_Per_Day</th>\n",
       "      <th>Physical_Activity_Hours_Per_Day</th>\n",
       "      <th>Stress_Level</th>\n",
       "      <th>Student_info</th>\n",
       "    </tr>\n",
       "  </thead>\n",
       "  <tbody>\n",
       "    <tr>\n",
       "      <th>1994</th>\n",
       "      <td>7.9</td>\n",
       "      <td>3.4</td>\n",
       "      <td>9.0</td>\n",
       "      <td>0.5</td>\n",
       "      <td>3.2</td>\n",
       "      <td>Moderate</td>\n",
       "      <td>6.16</td>\n",
       "    </tr>\n",
       "    <tr>\n",
       "      <th>1996</th>\n",
       "      <td>6.3</td>\n",
       "      <td>2.8</td>\n",
       "      <td>8.8</td>\n",
       "      <td>1.5</td>\n",
       "      <td>4.6</td>\n",
       "      <td>Moderate</td>\n",
       "      <td>5.30</td>\n",
       "    </tr>\n",
       "    <tr>\n",
       "      <th>1997</th>\n",
       "      <td>6.2</td>\n",
       "      <td>0.0</td>\n",
       "      <td>6.2</td>\n",
       "      <td>0.8</td>\n",
       "      <td>10.8</td>\n",
       "      <td>Moderate</td>\n",
       "      <td>6.28</td>\n",
       "    </tr>\n",
       "    <tr>\n",
       "      <th>1998</th>\n",
       "      <td>8.1</td>\n",
       "      <td>0.7</td>\n",
       "      <td>7.6</td>\n",
       "      <td>3.5</td>\n",
       "      <td>4.1</td>\n",
       "      <td>High</td>\n",
       "      <td>6.08</td>\n",
       "    </tr>\n",
       "    <tr>\n",
       "      <th>1999</th>\n",
       "      <td>9.0</td>\n",
       "      <td>1.7</td>\n",
       "      <td>7.3</td>\n",
       "      <td>3.1</td>\n",
       "      <td>2.9</td>\n",
       "      <td>High</td>\n",
       "      <td>7.16</td>\n",
       "    </tr>\n",
       "  </tbody>\n",
       "</table>\n",
       "</div>"
      ],
      "text/plain": [
       "      Study_Hours_Per_Day  Extracurricular_Hours_Per_Day  Sleep_Hours_Per_Day  \\\n",
       "1994                  7.9                            3.4                  9.0   \n",
       "1996                  6.3                            2.8                  8.8   \n",
       "1997                  6.2                            0.0                  6.2   \n",
       "1998                  8.1                            0.7                  7.6   \n",
       "1999                  9.0                            1.7                  7.3   \n",
       "\n",
       "      Social_Hours_Per_Day  Physical_Activity_Hours_Per_Day Stress_Level  \\\n",
       "1994                   0.5                              3.2     Moderate   \n",
       "1996                   1.5                              4.6     Moderate   \n",
       "1997                   0.8                             10.8     Moderate   \n",
       "1998                   3.5                              4.1         High   \n",
       "1999                   3.1                              2.9         High   \n",
       "\n",
       "      Student_info  \n",
       "1994          6.16  \n",
       "1996          5.30  \n",
       "1997          6.28  \n",
       "1998          6.08  \n",
       "1999          7.16  "
      ]
     },
     "execution_count": 61,
     "metadata": {},
     "output_type": "execute_result"
    }
   ],
   "source": [
    "df.tail()"
   ]
  },
  {
   "cell_type": "code",
   "execution_count": 63,
   "metadata": {},
   "outputs": [
    {
     "data": {
      "text/html": [
       "<div>\n",
       "<style scoped>\n",
       "    .dataframe tbody tr th:only-of-type {\n",
       "        vertical-align: middle;\n",
       "    }\n",
       "\n",
       "    .dataframe tbody tr th {\n",
       "        vertical-align: top;\n",
       "    }\n",
       "\n",
       "    .dataframe thead th {\n",
       "        text-align: right;\n",
       "    }\n",
       "</style>\n",
       "<table border=\"1\" class=\"dataframe\">\n",
       "  <thead>\n",
       "    <tr style=\"text-align: right;\">\n",
       "      <th></th>\n",
       "      <th>Study_Hours_Per_Day</th>\n",
       "      <th>Extracurricular_Hours_Per_Day</th>\n",
       "      <th>Sleep_Hours_Per_Day</th>\n",
       "      <th>Social_Hours_Per_Day</th>\n",
       "      <th>Physical_Activity_Hours_Per_Day</th>\n",
       "      <th>Stress_Level</th>\n",
       "      <th>Student_info</th>\n",
       "    </tr>\n",
       "  </thead>\n",
       "  <tbody>\n",
       "    <tr>\n",
       "      <th>0</th>\n",
       "      <td>6.9</td>\n",
       "      <td>3.8</td>\n",
       "      <td>8.7</td>\n",
       "      <td>2.8</td>\n",
       "      <td>1.8</td>\n",
       "      <td>Moderate</td>\n",
       "      <td>5.98</td>\n",
       "    </tr>\n",
       "    <tr>\n",
       "      <th>1</th>\n",
       "      <td>5.3</td>\n",
       "      <td>3.5</td>\n",
       "      <td>8.0</td>\n",
       "      <td>4.2</td>\n",
       "      <td>3.0</td>\n",
       "      <td>Low</td>\n",
       "      <td>5.50</td>\n",
       "    </tr>\n",
       "    <tr>\n",
       "      <th>2</th>\n",
       "      <td>5.1</td>\n",
       "      <td>3.9</td>\n",
       "      <td>9.2</td>\n",
       "      <td>1.2</td>\n",
       "      <td>4.6</td>\n",
       "      <td>Low</td>\n",
       "      <td>5.34</td>\n",
       "    </tr>\n",
       "    <tr>\n",
       "      <th>3</th>\n",
       "      <td>6.5</td>\n",
       "      <td>2.1</td>\n",
       "      <td>7.2</td>\n",
       "      <td>1.7</td>\n",
       "      <td>6.5</td>\n",
       "      <td>Moderate</td>\n",
       "      <td>5.76</td>\n",
       "    </tr>\n",
       "    <tr>\n",
       "      <th>4</th>\n",
       "      <td>8.1</td>\n",
       "      <td>0.6</td>\n",
       "      <td>6.5</td>\n",
       "      <td>2.2</td>\n",
       "      <td>6.6</td>\n",
       "      <td>High</td>\n",
       "      <td>7.02</td>\n",
       "    </tr>\n",
       "    <tr>\n",
       "      <th>...</th>\n",
       "      <td>...</td>\n",
       "      <td>...</td>\n",
       "      <td>...</td>\n",
       "      <td>...</td>\n",
       "      <td>...</td>\n",
       "      <td>...</td>\n",
       "      <td>...</td>\n",
       "    </tr>\n",
       "    <tr>\n",
       "      <th>1993</th>\n",
       "      <td>7.1</td>\n",
       "      <td>1.4</td>\n",
       "      <td>9.0</td>\n",
       "      <td>3.1</td>\n",
       "      <td>3.4</td>\n",
       "      <td>Moderate</td>\n",
       "      <td>5.70</td>\n",
       "    </tr>\n",
       "    <tr>\n",
       "      <th>1994</th>\n",
       "      <td>7.9</td>\n",
       "      <td>3.4</td>\n",
       "      <td>9.0</td>\n",
       "      <td>0.5</td>\n",
       "      <td>3.2</td>\n",
       "      <td>Moderate</td>\n",
       "      <td>6.16</td>\n",
       "    </tr>\n",
       "    <tr>\n",
       "      <th>1997</th>\n",
       "      <td>6.2</td>\n",
       "      <td>0.0</td>\n",
       "      <td>6.2</td>\n",
       "      <td>0.8</td>\n",
       "      <td>10.8</td>\n",
       "      <td>Moderate</td>\n",
       "      <td>6.28</td>\n",
       "    </tr>\n",
       "    <tr>\n",
       "      <th>1998</th>\n",
       "      <td>8.1</td>\n",
       "      <td>0.7</td>\n",
       "      <td>7.6</td>\n",
       "      <td>3.5</td>\n",
       "      <td>4.1</td>\n",
       "      <td>High</td>\n",
       "      <td>6.08</td>\n",
       "    </tr>\n",
       "    <tr>\n",
       "      <th>1999</th>\n",
       "      <td>9.0</td>\n",
       "      <td>1.7</td>\n",
       "      <td>7.3</td>\n",
       "      <td>3.1</td>\n",
       "      <td>2.9</td>\n",
       "      <td>High</td>\n",
       "      <td>7.16</td>\n",
       "    </tr>\n",
       "  </tbody>\n",
       "</table>\n",
       "<p>1998 rows × 7 columns</p>\n",
       "</div>"
      ],
      "text/plain": [
       "      Study_Hours_Per_Day  Extracurricular_Hours_Per_Day  Sleep_Hours_Per_Day  \\\n",
       "0                     6.9                            3.8                  8.7   \n",
       "1                     5.3                            3.5                  8.0   \n",
       "2                     5.1                            3.9                  9.2   \n",
       "3                     6.5                            2.1                  7.2   \n",
       "4                     8.1                            0.6                  6.5   \n",
       "...                   ...                            ...                  ...   \n",
       "1993                  7.1                            1.4                  9.0   \n",
       "1994                  7.9                            3.4                  9.0   \n",
       "1997                  6.2                            0.0                  6.2   \n",
       "1998                  8.1                            0.7                  7.6   \n",
       "1999                  9.0                            1.7                  7.3   \n",
       "\n",
       "      Social_Hours_Per_Day  Physical_Activity_Hours_Per_Day Stress_Level  \\\n",
       "0                      2.8                              1.8     Moderate   \n",
       "1                      4.2                              3.0          Low   \n",
       "2                      1.2                              4.6          Low   \n",
       "3                      1.7                              6.5     Moderate   \n",
       "4                      2.2                              6.6         High   \n",
       "...                    ...                              ...          ...   \n",
       "1993                   3.1                              3.4     Moderate   \n",
       "1994                   0.5                              3.2     Moderate   \n",
       "1997                   0.8                             10.8     Moderate   \n",
       "1998                   3.5                              4.1         High   \n",
       "1999                   3.1                              2.9         High   \n",
       "\n",
       "      Student_info  \n",
       "0             5.98  \n",
       "1             5.50  \n",
       "2             5.34  \n",
       "3             5.76  \n",
       "4             7.02  \n",
       "...            ...  \n",
       "1993          5.70  \n",
       "1994          6.16  \n",
       "1997          6.28  \n",
       "1998          6.08  \n",
       "1999          7.16  \n",
       "\n",
       "[1998 rows x 7 columns]"
      ]
     },
     "execution_count": 63,
     "metadata": {},
     "output_type": "execute_result"
    }
   ],
   "source": [
    "df.drop(1996,axis =0, inplace = False)"
   ]
  }
 ],
 "metadata": {
  "kernelspec": {
   "display_name": "Python 3",
   "language": "python",
   "name": "python3"
  },
  "language_info": {
   "codemirror_mode": {
    "name": "ipython",
    "version": 3
   },
   "file_extension": ".py",
   "mimetype": "text/x-python",
   "name": "python",
   "nbconvert_exporter": "python",
   "pygments_lexer": "ipython3",
   "version": "3.12.1"
  }
 },
 "nbformat": 4,
 "nbformat_minor": 2
}
