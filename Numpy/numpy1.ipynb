{
 "cells": [
  {
   "cell_type": "code",
   "execution_count": 2,
   "metadata": {},
   "outputs": [
    {
     "name": "stdout",
     "output_type": "stream",
     "text": [
      "int32\n"
     ]
    }
   ],
   "source": [
    "#Data types\n",
    "import numpy as np\n",
    "arr = np.array([1,2,3,4,5,6],dtype = 'i')\n",
    "print(arr.dtype)"
   ]
  },
  {
   "cell_type": "code",
   "execution_count": 3,
   "metadata": {},
   "outputs": [
    {
     "name": "stdout",
     "output_type": "stream",
     "text": [
      "float32\n"
     ]
    }
   ],
   "source": [
    "import numpy as np\n",
    "arr = np.array([1.2,4.2,6.4],dtype = 'f')\n",
    "print(arr.dtype)"
   ]
  },
  {
   "cell_type": "code",
   "execution_count": 6,
   "metadata": {},
   "outputs": [
    {
     "name": "stdout",
     "output_type": "stream",
     "text": [
      "bool\n"
     ]
    }
   ],
   "source": [
    "import numpy as np\n",
    "arr = np.array([True,False,True],dtype = 'bool')\n",
    "print(arr.dtype)"
   ]
  },
  {
   "cell_type": "code",
   "execution_count": 9,
   "metadata": {},
   "outputs": [
    {
     "name": "stdout",
     "output_type": "stream",
     "text": [
      "<U6\n"
     ]
    }
   ],
   "source": [
    "arr2 = np.array(['apple','banana','cherry'])\n",
    "print(arr2.dtype)"
   ]
  },
  {
   "cell_type": "code",
   "execution_count": 12,
   "metadata": {},
   "outputs": [
    {
     "name": "stdout",
     "output_type": "stream",
     "text": [
      "[b'1' b'2' b'3' b'4' b'5']\n",
      "|S1\n"
     ]
    }
   ],
   "source": [
    "arr_s = np.array([1,2,3,4,5],dtype = 'S')\n",
    "print(arr_s)\n",
    "print(arr_s.dtype)"
   ]
  },
  {
   "cell_type": "code",
   "execution_count": 18,
   "metadata": {},
   "outputs": [
    {
     "name": "stdout",
     "output_type": "stream",
     "text": [
      "['2024-01-01' '2023-01-01' '2022-01-01']\n",
      "datetime64[D]\n"
     ]
    }
   ],
   "source": [
    "arr_date = np.array(['2024-01-01','2023-01-01','2022-01-01'],dtype ='datetime64')\n",
    "print(arr_date)\n",
    "print(arr_date.dtype)"
   ]
  },
  {
   "cell_type": "code",
   "execution_count": 20,
   "metadata": {},
   "outputs": [
    {
     "name": "stdout",
     "output_type": "stream",
     "text": [
      "[100  20  30  40  50]\n",
      "[10 20 30 40 50]\n"
     ]
    }
   ],
   "source": [
    "# Copy and View:\n",
    "import numpy as np\n",
    "arr = np.array([10,20,30,40,50])\n",
    "copy_arr = arr.copy()\n",
    "arr[0] = 100\n",
    "print(arr)\n",
    "print(copy_arr)"
   ]
  },
  {
   "cell_type": "code",
   "execution_count": 22,
   "metadata": {},
   "outputs": [
    {
     "name": "stdout",
     "output_type": "stream",
     "text": [
      "[200  20  30  40  50]\n",
      "[200  20  30  40  50]\n"
     ]
    }
   ],
   "source": [
    "arr = np.array([10,20,30,40,50])\n",
    "view_arr = arr.view()\n",
    "arr[0] = 200\n",
    "print(arr)\n",
    "print(view_arr)"
   ]
  },
  {
   "cell_type": "code",
   "execution_count": 24,
   "metadata": {},
   "outputs": [
    {
     "name": "stdout",
     "output_type": "stream",
     "text": [
      "[ 10 200  30  40  50]\n",
      "[ 10 200  30  40  50]\n"
     ]
    }
   ],
   "source": [
    "arr = np.array([10,20,30,40,50])\n",
    "view_arr = arr.view()\n",
    "view_arr[1] = 200\n",
    "print(arr)\n",
    "print(view_arr)"
   ]
  },
  {
   "cell_type": "code",
   "execution_count": 25,
   "metadata": {},
   "outputs": [
    {
     "name": "stdout",
     "output_type": "stream",
     "text": [
      "[100  20  30  40  50]\n",
      "[100  20  30  40  50]\n"
     ]
    }
   ],
   "source": [
    "#Shallow Copy \n",
    "import numpy as np\n",
    "arr = np.array([10,20,30,40,50])\n",
    "arr_shallow = arr\n",
    "arr[0] = 100\n",
    "print(arr)\n",
    "print(arr_shallow)\n"
   ]
  },
  {
   "cell_type": "code",
   "execution_count": 26,
   "metadata": {},
   "outputs": [
    {
     "name": "stdout",
     "output_type": "stream",
     "text": [
      "[ 10 200  30  40  50]\n",
      "[ 10 200  30  40  50]\n"
     ]
    }
   ],
   "source": [
    "arr = np.array([10,20,30,40,50])\n",
    "arr_shallow = arr.view()\n",
    "arr[1] = 200\n",
    "print(arr)\n",
    "print(arr_shallow)"
   ]
  },
  {
   "cell_type": "code",
   "execution_count": 27,
   "metadata": {},
   "outputs": [
    {
     "name": "stdout",
     "output_type": "stream",
     "text": [
      "[ 10 200  30  40  50]\n",
      "[10 20 30 40 50]\n"
     ]
    }
   ],
   "source": [
    "arr = np.array([10,20,30,40,50])\n",
    "arr_deep = arr.copy()\n",
    "arr[1] = 200\n",
    "print(arr)\n",
    "print(arr_deep)"
   ]
  }
 ],
 "metadata": {
  "kernelspec": {
   "display_name": "Python 3",
   "language": "python",
   "name": "python3"
  },
  "language_info": {
   "codemirror_mode": {
    "name": "ipython",
    "version": 3
   },
   "file_extension": ".py",
   "mimetype": "text/x-python",
   "name": "python",
   "nbconvert_exporter": "python",
   "pygments_lexer": "ipython3",
   "version": "3.12.1"
  }
 },
 "nbformat": 4,
 "nbformat_minor": 2
}
